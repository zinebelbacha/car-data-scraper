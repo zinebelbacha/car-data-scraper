{
 "cells": [
  {
   "cell_type": "code",
   "execution_count": 8,
   "id": "9995f014-9106-48ac-939b-a083381f70e3",
   "metadata": {},
   "outputs": [],
   "source": [
    "#This notebook is for testing purposes, and for finding the correct Xpaths"
   ]
  },
  {
   "cell_type": "code",
   "execution_count": 1,
   "id": "cca2a7ae-8142-4c55-ac94-088db3bbadab",
   "metadata": {},
   "outputs": [],
   "source": [
    "from selenium import webdriver\n",
    "from selenium.webdriver.chrome.service import Service\n",
    "from selenium.webdriver.chrome.options import Options\n",
    "from selenium.webdriver.common.by import By\n",
    "import pandas as pd\n",
    "import time\n",
    "from selenium.webdriver.common.keys import Keys\n",
    "from selenium.webdriver.support.ui import WebDriverWait"
   ]
  },
  {
   "cell_type": "code",
   "execution_count": 2,
   "id": "3295ba06-dbf6-4938-94dd-8f2417eb7fba",
   "metadata": {},
   "outputs": [],
   "source": [
    "edge_driver_path = 'msedgedriver.exe'\n",
    "service = Service(edge_driver_path)\n",
    "driver = webdriver.Edge(service=service)"
   ]
  },
  {
   "cell_type": "code",
   "execution_count": 3,
   "id": "644db116-7470-4633-a8a9-85d67a0ec619",
   "metadata": {},
   "outputs": [],
   "source": [
    "driver.get('https://www.edmunds.com/inventory/srp.html')\n",
    "time.sleep(5)"
   ]
  },
  {
   "cell_type": "code",
   "execution_count": null,
   "id": "6a4ea178-49b8-443c-bc4f-98981520e993",
   "metadata": {},
   "outputs": [],
   "source": [
    "#price:          //*[@id=\"results-container\"]/ul/li[1]/div/div[2]/div/div[1]/div[2]/div[2]/div[1]/span   page 1 element \n",
    "                #//*[@id=\"results-container\"]/ul/li[2]/div/div[2]/div/div[1]/div[2]/div[2]/div[1]/span   page 1 element 2\n",
    "                #//*[@id=\"results-container\"]/ul/li[1]/div/div[2]/div/div[1]/div[2]/div[2]/div[1]/span   page 2 element 1\n",
    "#name & date:    //*[@id=\"results-container\"]/ul/li[1]/div/div[2]/div/div[1]/div[1]/h2/a/div[1]\n",
    "#extra info:     //*[@id=\"results-container\"]/ul/li[1]/div/div[2]/div/div[1]/div[1]/h2/a/div[2]\n",
    "#miles:          //*[@id=\"results-container\"]/ul/li[1]/div/div[2]/div/ul[1]/li[1]/span[2]"
   ]
  },
  {
   "cell_type": "code",
   "execution_count": 11,
   "id": "dee0ce3b-1a56-4598-b409-9e845ec494e9",
   "metadata": {},
   "outputs": [],
   "source": [
    "name = driver.find_element(By.XPATH, \"//*[@id='results-container']/ul/li[1]/div/div[2]/div/div[1]/div[1]/h2/a/div[1]\")\n",
    "car_name = name.text"
   ]
  },
  {
   "cell_type": "code",
   "execution_count": 12,
   "id": "63cfca7d-d8cd-4083-992c-5af6587df8fd",
   "metadata": {},
   "outputs": [
    {
     "data": {
      "text/plain": [
       "'2024 Chevrolet Malibu'"
      ]
     },
     "execution_count": 12,
     "metadata": {},
     "output_type": "execute_result"
    }
   ],
   "source": [
    "car_name"
   ]
  },
  {
   "cell_type": "code",
   "execution_count": 13,
   "id": "14358028-a9b6-4a3d-8b3c-2e6a74592e6a",
   "metadata": {},
   "outputs": [],
   "source": [
    "price = driver.find_element(By.XPATH, '//*[@id=\"results-container\"]/ul/li[1]/div/div[2]/div/div[1]/div[2]/div[2]/div[1]/span')\n",
    "car_price = price.text"
   ]
  },
  {
   "cell_type": "code",
   "execution_count": 14,
   "id": "d0e91d85-bf88-44c6-811e-bc63dccacace",
   "metadata": {},
   "outputs": [
    {
     "data": {
      "text/plain": [
       "'$19,999'"
      ]
     },
     "execution_count": 14,
     "metadata": {},
     "output_type": "execute_result"
    }
   ],
   "source": [
    "car_price"
   ]
  },
  {
   "cell_type": "code",
   "execution_count": 15,
   "id": "e1a06ae5-d473-4399-b539-c89976327ad4",
   "metadata": {},
   "outputs": [],
   "source": [
    "info = driver.find_element(By.XPATH, '//*[@id=\"results-container\"]/ul/li[1]/div/div[2]/div/div[1]/div[1]/h2/a/div[2]')\n",
    "car_info = info.text"
   ]
  },
  {
   "cell_type": "code",
   "execution_count": 16,
   "id": "f2b1be4a-e29e-45e9-bc6f-e9a6e83afa7f",
   "metadata": {},
   "outputs": [
    {
     "data": {
      "text/plain": [
       "'1LT Sedan'"
      ]
     },
     "execution_count": 16,
     "metadata": {},
     "output_type": "execute_result"
    }
   ],
   "source": [
    "car_info"
   ]
  },
  {
   "cell_type": "code",
   "execution_count": 17,
   "id": "d7bf0845-9f88-498e-966a-66f5d8cf3458",
   "metadata": {},
   "outputs": [],
   "source": [
    "miles = driver.find_element(By.XPATH, '//*[@id=\"results-container\"]/ul/li[1]/div/div[2]/div/ul[1]/li[1]/span[2]')\n",
    "car_miles = miles.text"
   ]
  },
  {
   "cell_type": "code",
   "execution_count": 18,
   "id": "e3782c22-eb5c-43fb-9f60-a317c115f242",
   "metadata": {},
   "outputs": [
    {
     "data": {
      "text/plain": [
       "'20,128 miles'"
      ]
     },
     "execution_count": 18,
     "metadata": {},
     "output_type": "execute_result"
    }
   ],
   "source": [
    "car_miles"
   ]
  },
  {
   "cell_type": "code",
   "execution_count": null,
   "id": "1db91498-730c-4715-9f7e-8b4d2a448213",
   "metadata": {},
   "outputs": [],
   "source": []
  }
 ],
 "metadata": {
  "kernelspec": {
   "display_name": "Python (venv_name)",
   "language": "python",
   "name": "scrape_venv"
  },
  "language_info": {
   "codemirror_mode": {
    "name": "ipython",
    "version": 3
   },
   "file_extension": ".py",
   "mimetype": "text/x-python",
   "name": "python",
   "nbconvert_exporter": "python",
   "pygments_lexer": "ipython3",
   "version": "3.13.1"
  }
 },
 "nbformat": 4,
 "nbformat_minor": 5
}
