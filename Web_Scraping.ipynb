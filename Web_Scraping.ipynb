{
 "cells": [
  {
   "cell_type": "code",
   "execution_count": 19,
   "id": "8275757f-70dd-4022-838b-f1ff3e49c831",
   "metadata": {},
   "outputs": [],
   "source": [
    "import random\n",
    "import time\n",
    "import pandas as pd\n",
    "from selenium import webdriver\n",
    "from selenium.webdriver.chrome.service import Service\n",
    "from selenium.webdriver.common.by import By\n",
    "from selenium.webdriver.support.ui import WebDriverWait\n",
    "from selenium.webdriver.support import expected_conditions as EC\n",
    "from selenium.common.exceptions import NoSuchElementException"
   ]
  },
  {
   "cell_type": "code",
   "execution_count": 20,
   "id": "9296c7c7-450e-4f0e-b9e6-af05f322d186",
   "metadata": {},
   "outputs": [],
   "source": [
    "USER_AGENTS = [\n",
    "    \"Mozilla/5.0 (Windows NT 10.0; Win64; x64) AppleWebKit/537.36 (KHTML, like Gecko) Chrome/91.0.4472.124 Safari/537.36\",\n",
    "    \"Mozilla/5.0 (Macintosh; Intel Mac OS X 10_15_7) AppleWebKit/605.1.15 (KHTML, like Gecko) Version/14.1.1 Safari/605.1.15\",\n",
    "    \"Mozilla/5.0 (Macintosh; Intel Mac OS X 10_15_7) AppleWebKit/537.36 (KHTML, like Gecko) Chrome/112.0.0.0 Safari/537.36\",\n",
    "    \"Mozilla/5.0 (iPhone; CPU iPhone OS 16_3 like Mac OS X) AppleWebKit/537.36 (KHTML, like Gecko) Version/16.3 Mobile/15E148 Safari/537.36\",\n",
    "    \"Mozilla/5.0 (X11; Linux x86_64) AppleWebKit/537.36 (KHTML, like Gecko) Chrome/110.0.0.0 Safari/537.36\"\n",
    "]"
   ]
  },
  {
   "cell_type": "code",
   "execution_count": 21,
   "id": "66df9074-c2f8-41ce-9e0b-b58adf024c83",
   "metadata": {},
   "outputs": [],
   "source": [
    "def get_random_user_agent():\n",
    "    \"\"\"Return a random user agent from the list.\"\"\"\n",
    "    return random.choice(USER_AGENTS)"
   ]
  },
  {
   "cell_type": "code",
   "execution_count": 23,
   "id": "f096905c-e292-4a6c-801e-f60ba857553c",
   "metadata": {},
   "outputs": [],
   "source": [
    "def initialize_driver():\n",
    "    \"\"\"Initialize the Selenium WebDriver with Edge.\"\"\"\n",
    "    edge_driver_path = r'C:\\Users\\hp\\Downloads\\msedgedriver.exe'  # Update this path if needed\n",
    "    service = Service(edge_driver_path)\n",
    "    options = webdriver.EdgeOptions()\n",
    "    \n",
    "    # Anti-detection measures\n",
    "    options.add_argument(f\"user-agent={get_random_user_agent()}\")\n",
    "    options.add_argument(\"--disable-blink-features=AutomationControlled\")\n",
    "    options.add_experimental_option(\"excludeSwitches\", [\"enable-automation\"])\n",
    "    options.add_experimental_option(\"useAutomationExtension\", False)\n",
    "    \n",
    "    driver = webdriver.Edge(service=service, options=options)\n",
    "    return driver"
   ]
  },
  {
   "cell_type": "code",
   "execution_count": 24,
   "id": "1fc56a05-7283-446f-936f-b3a549f05e87",
   "metadata": {},
   "outputs": [],
   "source": [
    "def extract_car_info(driver):\n",
    "    \"\"\"Extract car information from the current page.\"\"\"\n",
    "    car_data = []\n",
    "    \n",
    "    # Wait for car elements to load\n",
    "    try:\n",
    "        WebDriverWait(driver, 10).until(\n",
    "            EC.presence_of_element_located((By.XPATH, '//*[@id=\"results-container\"]/ul/li'))\n",
    "        )\n",
    "    except TimeoutException:\n",
    "        print(\"Timed out waiting for car elements to load.\")\n",
    "        return car_data\n",
    "    \n",
    "    car_elements = driver.find_elements(By.XPATH, '//*[@id=\"results-container\"]/ul/li')\n",
    "    print(f\"Found {len(car_elements)} car elements on the page.\")\n",
    "    \n",
    "    for car_element in car_elements:\n",
    "        try:\n",
    "            name_date = car_element.find_element(By.XPATH, './/div[1]/h2/a/div[1]').text\n",
    "            features = car_element.find_element(By.XPATH, './/div[1]/h2/a/div[2]').text\n",
    "            price = car_element.find_element(By.XPATH, './/div[2]/div[2]/div[1]/span').text\n",
    "            miles = car_element.find_element(By.XPATH, './/ul[1]/li[1]/span[2]').text\n",
    "            \n",
    "            car_data.append({\n",
    "                'Name & Date': name_date,\n",
    "                'Features': features,\n",
    "                'Price': price,\n",
    "                'Miles': miles\n",
    "            })\n",
    "        except Exception as e:\n",
    "            print(f\"Error extracting data: {e}\")\n",
    "    \n",
    "    return car_data"
   ]
  },
  {
   "cell_type": "code",
   "execution_count": 25,
   "id": "835ddf31-258f-43bf-811b-d1e33922d1f3",
   "metadata": {},
   "outputs": [],
   "source": [
    "def scrape_all_pages(base_url, max_pages=10):\n",
    "    \"\"\"Scrape car data from multiple pages.\"\"\"\n",
    "    driver = initialize_driver()\n",
    "    all_car_data = []\n",
    "    page_number = 1\n",
    "\n",
    "    while page_number <= max_pages:\n",
    "        print(f\"Navigating to page {page_number}\")\n",
    "        driver.get(f\"{base_url}?page={page_number}\")\n",
    "        time.sleep(random.uniform(2, 5))  # Random delay\n",
    "        \n",
    "        # Extract car information from the current page\n",
    "        car_data = extract_car_info(driver)\n",
    "        all_car_data.extend(car_data)\n",
    "        \n",
    "        # Check if there is a next page\n",
    "        try:\n",
    "            next_button = WebDriverWait(driver, 10).until(\n",
    "                EC.element_to_be_clickable((By.XPATH, '//*[@id=\"results-container\"]//a/span[contains(text(), \"Next\")]'))\n",
    "            )\n",
    "            print(\"Found the 'Next' button.\")\n",
    "            \n",
    "            if \"disabled\" in next_button.get_attribute(\"class\"):\n",
    "                print(\"Reached the last page.\")\n",
    "                break\n",
    "            \n",
    "            next_button.click()\n",
    "            time.sleep(random.uniform(2, 5))  # Random delay\n",
    "        except (NoSuchElementException, TimeoutException):\n",
    "            print(\"No more pages to load.\")\n",
    "            break\n",
    "        \n",
    "        # Move to the next page\n",
    "        page_number += 1\n",
    "\n",
    "    # Close the driver\n",
    "    driver.quit()\n",
    "    \n",
    "    return all_car_data"
   ]
  },
  {
   "cell_type": "code",
   "execution_count": 26,
   "id": "3cd27db5-f292-45f4-8469-0b5169f4e7bb",
   "metadata": {},
   "outputs": [],
   "source": [
    "def save_to_csv(data, filename=\"car_data.csv\"):\n",
    "    \"\"\"Save the scraped data to a CSV file.\"\"\"\n",
    "    df = pd.DataFrame(data)\n",
    "    df.to_csv(filename, index=False)\n",
    "    print(f\"Data saved to {filename}\")"
   ]
  },
  {
   "cell_type": "code",
   "execution_count": 31,
   "id": "621acfad-b196-41c8-9ebf-dd7c7700f8f7",
   "metadata": {},
   "outputs": [],
   "source": [
    "def main():\n",
    "    \"\"\"Main function to run the scraping process.\"\"\"\n",
    "    base_url = 'https://www.edmunds.com/inventory/srp.html'\n",
    "    car_data = scrape_all_pages(base_url)\n",
    "    save_to_csv(car_data)"
   ]
  },
  {
   "cell_type": "code",
   "execution_count": 28,
   "id": "c46b84a5-5928-48b5-931a-817191969911",
   "metadata": {},
   "outputs": [
    {
     "name": "stdout",
     "output_type": "stream",
     "text": [
      "Navigating to page 1\n",
      "Found 21 car elements on the page.\n",
      "Found the 'Next' button.\n",
      "Navigating to page 2\n",
      "Found 21 car elements on the page.\n",
      "Found the 'Next' button.\n",
      "Navigating to page 3\n",
      "Found 21 car elements on the page.\n",
      "Found the 'Next' button.\n",
      "Navigating to page 4\n",
      "Found 21 car elements on the page.\n",
      "Found the 'Next' button.\n",
      "Navigating to page 5\n",
      "Found 21 car elements on the page.\n",
      "Found the 'Next' button.\n",
      "Navigating to page 6\n",
      "Found 21 car elements on the page.\n",
      "Found the 'Next' button.\n",
      "Navigating to page 7\n",
      "Found 21 car elements on the page.\n",
      "Found the 'Next' button.\n",
      "Navigating to page 8\n",
      "Found 21 car elements on the page.\n",
      "Found the 'Next' button.\n",
      "Navigating to page 9\n",
      "Found 21 car elements on the page.\n",
      "Found the 'Next' button.\n",
      "Navigating to page 10\n",
      "Found 21 car elements on the page.\n",
      "Found the 'Next' button.\n",
      "Data saved to car_data.csv\n"
     ]
    }
   ],
   "source": [
    "if __name__ == \"__main__\":\n",
    "    main()"
   ]
  },
  {
   "cell_type": "code",
   "execution_count": null,
   "id": "fec48984-d3e9-4c65-b2b8-9495491f9aa6",
   "metadata": {},
   "outputs": [],
   "source": []
  }
 ],
 "metadata": {
  "kernelspec": {
   "display_name": "Python (venv_name)",
   "language": "python",
   "name": "scrape_venv"
  },
  "language_info": {
   "codemirror_mode": {
    "name": "ipython",
    "version": 3
   },
   "file_extension": ".py",
   "mimetype": "text/x-python",
   "name": "python",
   "nbconvert_exporter": "python",
   "pygments_lexer": "ipython3",
   "version": "3.13.1"
  }
 },
 "nbformat": 4,
 "nbformat_minor": 5
}
