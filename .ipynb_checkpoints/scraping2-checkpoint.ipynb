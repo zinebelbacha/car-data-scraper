{
 "cells": [
  {
   "cell_type": "code",
   "execution_count": 39,
   "id": "ccaae352-7b47-4702-94d2-e4c50676b03b",
   "metadata": {},
   "outputs": [],
   "source": [
    "import random\n",
    "import time\n",
    "import pandas as pd\n",
    "from selenium import webdriver\n",
    "from selenium.webdriver.chrome.service import Service\n",
    "from selenium.webdriver.common.by import By\n",
    "from selenium.webdriver.support.ui import WebDriverWait\n",
    "from selenium.webdriver.support import expected_conditions as EC\n",
    "from selenium.common.exceptions import NoSuchElementException, TimeoutException"
   ]
  },
  {
   "cell_type": "code",
   "execution_count": 40,
   "id": "60b79c4c-c3ce-4c8b-8043-460aff0cf8f5",
   "metadata": {},
   "outputs": [],
   "source": [
    "USER_AGENTS = [\n",
    "    \"Mozilla/5.0 (Windows NT 10.0; Win64; x64) AppleWebKit/537.36 (KHTML, like Gecko) Chrome/91.0.4472.124 Safari/537.36\",\n",
    "    \"Mozilla/5.0 (Macintosh; Intel Mac OS X 10_15_7) AppleWebKit/605.1.15 (KHTML, like Gecko) Version/14.1.1 Safari/605.1.15\",\n",
    "    \"Mozilla/5.0 (Macintosh; Intel Mac OS X 10_15_7) AppleWebKit/537.36 (KHTML, like Gecko) Chrome/112.0.0.0 Safari/537.36\",\n",
    "    \"Mozilla/5.0 (iPhone; CPU iPhone OS 16_3 like Mac OS X) AppleWebKit/537.36 (KHTML, like Gecko) Version/16.3 Mobile/15E148 Safari/537.36\",\n",
    "    \"Mozilla/5.0 (X11; Linux x86_64) AppleWebKit/537.36 (KHTML, like Gecko) Chrome/110.0.0.0 Safari/537.36\"\n",
    "]"
   ]
  },
  {
   "cell_type": "code",
   "execution_count": 41,
   "id": "1bfd7550-e45b-4506-8fed-1405764e4ff7",
   "metadata": {},
   "outputs": [],
   "source": [
    "def get_random_user_agent():\n",
    "    \"\"\"Return a random user agent from the list.\"\"\"\n",
    "    return random.choice(USER_AGENTS)"
   ]
  },
  {
   "cell_type": "code",
   "execution_count": 42,
   "id": "2b5aaf00-3cb5-462c-90bf-2e25c9635f0b",
   "metadata": {},
   "outputs": [],
   "source": [
    "def initialize_driver():\n",
    "    \"\"\"Initialize the Selenium WebDriver with Edge.\"\"\"\n",
    "    edge_driver_path = r'C:\\Users\\hp\\Downloads\\msedgedriver.exe'  # Update this path if needed\n",
    "    service = Service(edge_driver_path)\n",
    "    options = webdriver.EdgeOptions()\n",
    "    \n",
    "    # Anti-detection measures\n",
    "    options.add_argument(f\"user-agent={get_random_user_agent()}\")\n",
    "    options.add_argument(\"--disable-blink-features=AutomationControlled\")\n",
    "    options.add_experimental_option(\"excludeSwitches\", [\"enable-automation\"])\n",
    "    options.add_experimental_option(\"useAutomationExtension\", False)\n",
    "    \n",
    "    driver = webdriver.Edge(service=service, options=options)\n",
    "    return driver"
   ]
  },
  {
   "cell_type": "code",
   "execution_count": 43,
   "id": "58a56ecb-a207-4551-9b94-a3923df7f8c9",
   "metadata": {},
   "outputs": [],
   "source": [
    "def extract_car_info(driver):\n",
    "    \"\"\"Extract car information from the current page.\"\"\"\n",
    "    car_data = []\n",
    "    \n",
    "    # Wait for car elements to load\n",
    "    try:\n",
    "        WebDriverWait(driver, 10).until(\n",
    "            EC.presence_of_element_located((By.XPATH, '//*[@id=\"results-container\"]/ul/li'))\n",
    "        )\n",
    "    except TimeoutException:\n",
    "        print(\"Timed out waiting for car elements to load.\")\n",
    "        return car_data\n",
    "    \n",
    "    car_elements = driver.find_elements(By.XPATH, '//*[@id=\"results-container\"]/ul/li')\n",
    "    print(f\"Found {len(car_elements)} car elements on the page.\")\n",
    "    \n",
    "    for car_element in car_elements:\n",
    "        try:\n",
    "            year_make_model = car_element.find_element(By.XPATH, './/div[1]/h2/a/div[1]').text\n",
    "            trim = car_element.find_element(By.XPATH, './/div[1]/h2/a/div[2]').text \n",
    "            price = car_element.find_element(By.XPATH, './/div[2]/div[2]/div[1]/span').text\n",
    "            mileage = car_element.find_element(By.XPATH, './/ul[1]/li[1]/span[2]').text\n",
    "            \n",
    "            car_data.append({\n",
    "                'Year_Make_Model': year_make_model,\n",
    "                'Trim': trim,\n",
    "                'Price': price,\n",
    "                'Mileage': mileage\n",
    "            })\n",
    "        except Exception as e:\n",
    "            print(f\"Error extracting data: {e}\")\n",
    "    \n",
    "    return car_data"
   ]
  },
  {
   "cell_type": "code",
   "execution_count": 44,
   "id": "0158e989-53ae-42a4-8e3b-764bb36ee0c5",
   "metadata": {},
   "outputs": [],
   "source": [
    "def scrape_all_pages(base_url, max_pages=40):\n",
    "    \"\"\"Scrape car data from multiple pages.\"\"\"\n",
    "    driver = initialize_driver()\n",
    "    all_car_data = []\n",
    "    page_number = 1\n",
    "\n",
    "    while page_number <= max_pages:\n",
    "        print(f\"Navigating to page {page_number}\")\n",
    "        driver.get(f\"{base_url}?page={page_number}\")\n",
    "        time.sleep(random.uniform(10, 20))  # Random delay\n",
    "        \n",
    "        # Extract car information from the current page\n",
    "        car_data = extract_car_info(driver)\n",
    "        all_car_data.extend(car_data)\n",
    "        \n",
    "        # Check if there is a next page\n",
    "        try:\n",
    "            next_button = WebDriverWait(driver, 10).until(\n",
    "                EC.element_to_be_clickable((By.XPATH, '//*[@id=\"results-container\"]//a/span[contains(text(), \"Next\")]'))\n",
    "            )\n",
    "            print(\"Found the 'Next' button.\")\n",
    "            \n",
    "            if \"disabled\" in next_button.get_attribute(\"class\"):\n",
    "                print(\"Reached the last page.\")\n",
    "                break\n",
    "            \n",
    "            next_button.click()\n",
    "            time.sleep(random.uniform(10, 20))  # Random delay\n",
    "        except (NoSuchElementException, TimeoutException):\n",
    "            print(\"No more pages to load.\")\n",
    "            break\n",
    "        \n",
    "        # Move to the next page\n",
    "        page_number += 1\n",
    "\n",
    "    # Close the driver\n",
    "    driver.quit()\n",
    "    \n",
    "    return all_car_data\n",
    "\n"
   ]
  },
  {
   "cell_type": "code",
   "execution_count": 45,
   "id": "133cd0eb-5f90-469c-9d40-e684a1384edb",
   "metadata": {},
   "outputs": [],
   "source": [
    "def save_to_csv(data, filename=\"cars_data.csv\"):\n",
    "    \"\"\"Save the scraped data to a CSV file.\"\"\"\n",
    "    df = pd.DataFrame(data)\n",
    "    df.to_csv(filename, index=False)\n",
    "    print(f\"Data saved to {filename}\")"
   ]
  },
  {
   "cell_type": "code",
   "execution_count": 46,
   "id": "b60cbf43-2edc-4d84-a110-d4e7eddf293e",
   "metadata": {},
   "outputs": [],
   "source": [
    "def main():\n",
    "    \"\"\"Main function to run the scraping process.\"\"\"\n",
    "    base_url = 'https://www.edmunds.com/inventory/srp.html'\n",
    "    cars_data = scrape_all_pages(base_url)\n",
    "    save_to_csv(cars_data)"
   ]
  },
  {
   "cell_type": "code",
   "execution_count": 47,
   "id": "7daa4a42-e55c-4d5c-8cdc-37ac9f34c263",
   "metadata": {},
   "outputs": [
    {
     "name": "stdout",
     "output_type": "stream",
     "text": [
      "Navigating to page 1\n",
      "Found 22 car elements on the page.\n",
      "Error extracting data: Message: no such element: Unable to locate element: {\"method\":\"xpath\",\"selector\":\".//div[1]/h2/a/div[1]\"}\n",
      "  (Session info: MicrosoftEdge=132.0.2957.127); For documentation on this error, please visit: https://www.selenium.dev/documentation/webdriver/troubleshooting/errors#no-such-element-exception\n",
      "Stacktrace:\n",
      "\tGetHandleVerifier [0x00007FF705660AD5+13637]\n",
      "\tMicrosoft::Applications::Events::EventProperty::empty [0x00007FF7058EBC04+2078900]\n",
      "\tMicrosoft::Applications::Events::EventProperty::empty [0x00007FF7058466C6+1401718]\n",
      "\t(No symbol) [0x00007FF70541D84C]\n",
      "\t(No symbol) [0x00007FF70541DA0B]\n",
      "\t(No symbol) [0x00007FF705413E0C]\n",
      "\t(No symbol) [0x00007FF70543DE1F]\n",
      "\t(No symbol) [0x00007FF705413DB7]\n",
      "\t(No symbol) [0x00007FF705413C7D]\n",
      "\t(No symbol) [0x00007FF70543E0C0]\n",
      "\t(No symbol) [0x00007FF705413DB7]\n",
      "\t(No symbol) [0x00007FF70545890D]\n",
      "\t(No symbol) [0x00007FF70543DA43]\n",
      "\t(No symbol) [0x00007FF705413304]\n",
      "\t(No symbol) [0x00007FF705412636]\n",
      "\t(No symbol) [0x00007FF705412EF1]\n",
      "\t(No symbol) [0x00007FF70549E1A4]\n",
      "\t(No symbol) [0x00007FF70554608F]\n",
      "\t(No symbol) [0x00007FF7054A1B93]\n",
      "\tMicrosoft::Applications::Events::EventProperty::to_string [0x00007FF7059A81F9+269801]\n",
      "\tMicrosoft::Applications::Events::ILogConfiguration::operator* [0x00007FF7055F7191+519345]\n",
      "\tMicrosoft::Applications::Events::ILogConfiguration::operator* [0x00007FF7055F2484+499620]\n",
      "\tMicrosoft::Applications::Events::ILogConfiguration::operator* [0x00007FF7055F25C9+499945]\n",
      "\tMicrosoft::Applications::Events::ILogConfiguration::operator* [0x00007FF7055E7546+454758]\n",
      "\tBaseThreadInitThunk [0x00007FF9D6247374+20]\n",
      "\tRtlUserThreadStart [0x00007FF9D805CC91+33]\n",
      "\n",
      "No more pages to load.\n",
      "Data saved to cars_data.csv\n"
     ]
    }
   ],
   "source": [
    "if __name__ == \"__main__\":\n",
    "    main()"
   ]
  },
  {
   "cell_type": "code",
   "execution_count": null,
   "id": "a0643eb3-7dd2-440f-b90d-b6bd377ef704",
   "metadata": {},
   "outputs": [],
   "source": []
  }
 ],
 "metadata": {
  "kernelspec": {
   "display_name": "Python (venv_name)",
   "language": "python",
   "name": "scrape_venv"
  },
  "language_info": {
   "codemirror_mode": {
    "name": "ipython",
    "version": 3
   },
   "file_extension": ".py",
   "mimetype": "text/x-python",
   "name": "python",
   "nbconvert_exporter": "python",
   "pygments_lexer": "ipython3",
   "version": "3.13.1"
  }
 },
 "nbformat": 4,
 "nbformat_minor": 5
}
