{
 "cells": [
  {
   "cell_type": "code",
   "execution_count": 1,
   "metadata": {},
   "outputs": [],
   "source": [
    "import pandas as pd"
   ]
  },
  {
   "cell_type": "code",
   "execution_count": 3,
   "metadata": {},
   "outputs": [],
   "source": [
    "path=r'C:\\Users\\hp\\Downloads\\Scraping_cars\\car_data.csv'\n",
    "cars_df=pd.read_csv(path)"
   ]
  },
  {
   "cell_type": "code",
   "execution_count": 4,
   "metadata": {},
   "outputs": [
    {
     "data": {
      "text/html": [
       "<div>\n",
       "<style scoped>\n",
       "    .dataframe tbody tr th:only-of-type {\n",
       "        vertical-align: middle;\n",
       "    }\n",
       "\n",
       "    .dataframe tbody tr th {\n",
       "        vertical-align: top;\n",
       "    }\n",
       "\n",
       "    .dataframe thead th {\n",
       "        text-align: right;\n",
       "    }\n",
       "</style>\n",
       "<table border=\"1\" class=\"dataframe\">\n",
       "  <thead>\n",
       "    <tr style=\"text-align: right;\">\n",
       "      <th></th>\n",
       "      <th>Name &amp; Date</th>\n",
       "      <th>Features</th>\n",
       "      <th>Price</th>\n",
       "      <th>Miles</th>\n",
       "    </tr>\n",
       "  </thead>\n",
       "  <tbody>\n",
       "    <tr>\n",
       "      <th>0</th>\n",
       "      <td>2023 Kia Sportage</td>\n",
       "      <td>EX 4dr SUV</td>\n",
       "      <td>$27,590</td>\n",
       "      <td>5,876 miles</td>\n",
       "    </tr>\n",
       "    <tr>\n",
       "      <th>1</th>\n",
       "      <td>2024 Nissan Altima</td>\n",
       "      <td>2.5 SV Sedan</td>\n",
       "      <td>$20,899</td>\n",
       "      <td>18,858 miles</td>\n",
       "    </tr>\n",
       "    <tr>\n",
       "      <th>2</th>\n",
       "      <td>2024 Chevrolet Malibu</td>\n",
       "      <td>1LT Sedan</td>\n",
       "      <td>$19,999</td>\n",
       "      <td>22,544 miles</td>\n",
       "    </tr>\n",
       "    <tr>\n",
       "      <th>3</th>\n",
       "      <td>2020 Dodge Grand Caravan</td>\n",
       "      <td>SXT Passenger Minivan</td>\n",
       "      <td>$13,999</td>\n",
       "      <td>94,366 miles</td>\n",
       "    </tr>\n",
       "    <tr>\n",
       "      <th>4</th>\n",
       "      <td>2024 Ford Escape</td>\n",
       "      <td>ST-Line 4dr SUV</td>\n",
       "      <td>$22,990</td>\n",
       "      <td>20,417 miles</td>\n",
       "    </tr>\n",
       "  </tbody>\n",
       "</table>\n",
       "</div>"
      ],
      "text/plain": [
       "                Name & Date               Features    Price         Miles\n",
       "0         2023 Kia Sportage             EX 4dr SUV  $27,590   5,876 miles\n",
       "1        2024 Nissan Altima           2.5 SV Sedan  $20,899  18,858 miles\n",
       "2     2024 Chevrolet Malibu              1LT Sedan  $19,999  22,544 miles\n",
       "3  2020 Dodge Grand Caravan  SXT Passenger Minivan  $13,999  94,366 miles\n",
       "4          2024 Ford Escape        ST-Line 4dr SUV  $22,990  20,417 miles"
      ]
     },
     "execution_count": 4,
     "metadata": {},
     "output_type": "execute_result"
    }
   ],
   "source": [
    "cars_df.head()"
   ]
  },
  {
   "cell_type": "code",
   "execution_count": 6,
   "metadata": {},
   "outputs": [
    {
     "name": "stdout",
     "output_type": "stream",
     "text": [
      "<class 'pandas.core.frame.DataFrame'>\n",
      "RangeIndex: 210 entries, 0 to 209\n",
      "Data columns (total 4 columns):\n",
      " #   Column       Non-Null Count  Dtype \n",
      "---  ------       --------------  ----- \n",
      " 0   Name & Date  210 non-null    object\n",
      " 1   Features     210 non-null    object\n",
      " 2   Price        210 non-null    object\n",
      " 3   Miles        210 non-null    object\n",
      "dtypes: object(4)\n",
      "memory usage: 6.7+ KB\n"
     ]
    }
   ],
   "source": [
    "cars_df.info()"
   ]
  },
  {
   "cell_type": "code",
   "execution_count": 7,
   "metadata": {},
   "outputs": [],
   "source": [
    "cars_df.drop_duplicates(inplace=True)"
   ]
  },
  {
   "cell_type": "code",
   "execution_count": 8,
   "metadata": {},
   "outputs": [
    {
     "name": "stdout",
     "output_type": "stream",
     "text": [
      "<class 'pandas.core.frame.DataFrame'>\n",
      "Index: 42 entries, 0 to 41\n",
      "Data columns (total 4 columns):\n",
      " #   Column       Non-Null Count  Dtype \n",
      "---  ------       --------------  ----- \n",
      " 0   Name & Date  42 non-null     object\n",
      " 1   Features     42 non-null     object\n",
      " 2   Price        42 non-null     object\n",
      " 3   Miles        42 non-null     object\n",
      "dtypes: object(4)\n",
      "memory usage: 1.6+ KB\n"
     ]
    }
   ],
   "source": [
    "cars_df.info()"
   ]
  },
  {
   "cell_type": "code",
   "execution_count": 9,
   "metadata": {},
   "outputs": [
    {
     "name": "stderr",
     "output_type": "stream",
     "text": [
      "<>:4: SyntaxWarning: invalid escape sequence '\\$'\n",
      "<>:5: SyntaxWarning: invalid escape sequence '\\s'\n",
      "<>:5: SyntaxWarning: invalid escape sequence '\\d'\n",
      "<>:4: SyntaxWarning: invalid escape sequence '\\$'\n",
      "<>:5: SyntaxWarning: invalid escape sequence '\\s'\n",
      "<>:5: SyntaxWarning: invalid escape sequence '\\d'\n",
      "C:\\Users\\hp\\AppData\\Local\\Temp\\ipykernel_12064\\466345856.py:4: SyntaxWarning: invalid escape sequence '\\$'\n",
      "  cars_df['Price'] = cars_df['Price'].replace('[\\$,]', '', regex=True).astype(float)\n",
      "C:\\Users\\hp\\AppData\\Local\\Temp\\ipykernel_12064\\466345856.py:5: SyntaxWarning: invalid escape sequence '\\s'\n",
      "  cars_df['Miles'] = cars_df['Miles'].replace('[,\\s]', '', regex=True).str.extract('(\\d+)').astype(float)\n",
      "C:\\Users\\hp\\AppData\\Local\\Temp\\ipykernel_12064\\466345856.py:5: SyntaxWarning: invalid escape sequence '\\d'\n",
      "  cars_df['Miles'] = cars_df['Miles'].replace('[,\\s]', '', regex=True).str.extract('(\\d+)').astype(float)\n"
     ]
    }
   ],
   "source": [
    "cars_df['Year'] = cars_df['Name & Date'].str.extract(r'(\\d{4})')\n",
    "cars_df['Name & Date'] = cars_df['Name & Date'].str.replace(r'\\b\\d{4}\\b', '', regex=True)\n",
    "cars_df['Name & Date'] = cars_df['Name & Date'].str.strip().str.replace(r'\\s+,', ',', regex=True)\n",
    "cars_df['Price'] = cars_df['Price'].replace('[\\$,]', '', regex=True).astype(float)\n",
    "cars_df['Miles'] = cars_df['Miles'].replace('[,\\s]', '', regex=True).str.extract('(\\d+)').astype(float)"
   ]
  },
  {
   "cell_type": "code",
   "execution_count": 10,
   "metadata": {},
   "outputs": [
    {
     "data": {
      "text/html": [
       "<div>\n",
       "<style scoped>\n",
       "    .dataframe tbody tr th:only-of-type {\n",
       "        vertical-align: middle;\n",
       "    }\n",
       "\n",
       "    .dataframe tbody tr th {\n",
       "        vertical-align: top;\n",
       "    }\n",
       "\n",
       "    .dataframe thead th {\n",
       "        text-align: right;\n",
       "    }\n",
       "</style>\n",
       "<table border=\"1\" class=\"dataframe\">\n",
       "  <thead>\n",
       "    <tr style=\"text-align: right;\">\n",
       "      <th></th>\n",
       "      <th>Name &amp; Date</th>\n",
       "      <th>Features</th>\n",
       "      <th>Price</th>\n",
       "      <th>Miles</th>\n",
       "      <th>Year</th>\n",
       "    </tr>\n",
       "  </thead>\n",
       "  <tbody>\n",
       "    <tr>\n",
       "      <th>0</th>\n",
       "      <td>Kia Sportage</td>\n",
       "      <td>EX 4dr SUV</td>\n",
       "      <td>27590.0</td>\n",
       "      <td>5876.0</td>\n",
       "      <td>2023</td>\n",
       "    </tr>\n",
       "    <tr>\n",
       "      <th>1</th>\n",
       "      <td>Nissan Altima</td>\n",
       "      <td>2.5 SV Sedan</td>\n",
       "      <td>20899.0</td>\n",
       "      <td>18858.0</td>\n",
       "      <td>2024</td>\n",
       "    </tr>\n",
       "    <tr>\n",
       "      <th>2</th>\n",
       "      <td>Chevrolet Malibu</td>\n",
       "      <td>1LT Sedan</td>\n",
       "      <td>19999.0</td>\n",
       "      <td>22544.0</td>\n",
       "      <td>2024</td>\n",
       "    </tr>\n",
       "    <tr>\n",
       "      <th>3</th>\n",
       "      <td>Dodge Grand Caravan</td>\n",
       "      <td>SXT Passenger Minivan</td>\n",
       "      <td>13999.0</td>\n",
       "      <td>94366.0</td>\n",
       "      <td>2020</td>\n",
       "    </tr>\n",
       "    <tr>\n",
       "      <th>4</th>\n",
       "      <td>Ford Escape</td>\n",
       "      <td>ST-Line 4dr SUV</td>\n",
       "      <td>22990.0</td>\n",
       "      <td>20417.0</td>\n",
       "      <td>2024</td>\n",
       "    </tr>\n",
       "  </tbody>\n",
       "</table>\n",
       "</div>"
      ],
      "text/plain": [
       "           Name & Date               Features    Price    Miles  Year\n",
       "0         Kia Sportage             EX 4dr SUV  27590.0   5876.0  2023\n",
       "1        Nissan Altima           2.5 SV Sedan  20899.0  18858.0  2024\n",
       "2     Chevrolet Malibu              1LT Sedan  19999.0  22544.0  2024\n",
       "3  Dodge Grand Caravan  SXT Passenger Minivan  13999.0  94366.0  2020\n",
       "4          Ford Escape        ST-Line 4dr SUV  22990.0  20417.0  2024"
      ]
     },
     "execution_count": 10,
     "metadata": {},
     "output_type": "execute_result"
    }
   ],
   "source": [
    "cars_df.head()"
   ]
  },
  {
   "cell_type": "code",
   "execution_count": null,
   "metadata": {},
   "outputs": [],
   "source": [
    "cars_df = cars_df.rename(columns={'Name & Date': 'Make & Model'})\n",
    "cars_df = cars_df.rename(columns={'Features': 'Trim'})\n",
    "cars_df = cars_df.rename(columns={'Miles': 'Mileage'})"
   ]
  },
  {
   "cell_type": "code",
   "execution_count": 21,
   "metadata": {},
   "outputs": [],
   "source": [
    "\n",
    "cars_df[['Make', 'Model']] = cars_df['Make & Model'].str.split(n=1, expand=True)\n"
   ]
  },
  {
   "cell_type": "code",
   "execution_count": 24,
   "metadata": {},
   "outputs": [],
   "source": [
    "cars_df.drop(columns=['Make & Model'], inplace=True)"
   ]
  },
  {
   "cell_type": "code",
   "execution_count": 26,
   "metadata": {},
   "outputs": [],
   "source": [
    "cars_df = cars_df[['Year', 'Make', 'Model', 'Trim', 'Price', 'Mileage']]"
   ]
  },
  {
   "cell_type": "code",
   "execution_count": 28,
   "metadata": {},
   "outputs": [
    {
     "data": {
      "text/html": [
       "<div>\n",
       "<style scoped>\n",
       "    .dataframe tbody tr th:only-of-type {\n",
       "        vertical-align: middle;\n",
       "    }\n",
       "\n",
       "    .dataframe tbody tr th {\n",
       "        vertical-align: top;\n",
       "    }\n",
       "\n",
       "    .dataframe thead th {\n",
       "        text-align: right;\n",
       "    }\n",
       "</style>\n",
       "<table border=\"1\" class=\"dataframe\">\n",
       "  <thead>\n",
       "    <tr style=\"text-align: right;\">\n",
       "      <th></th>\n",
       "      <th>Year</th>\n",
       "      <th>Make</th>\n",
       "      <th>Model</th>\n",
       "      <th>Trim</th>\n",
       "      <th>Price</th>\n",
       "      <th>Mileage</th>\n",
       "    </tr>\n",
       "  </thead>\n",
       "  <tbody>\n",
       "    <tr>\n",
       "      <th>0</th>\n",
       "      <td>2023</td>\n",
       "      <td>Kia</td>\n",
       "      <td>Sportage</td>\n",
       "      <td>EX 4dr SUV</td>\n",
       "      <td>27590.0</td>\n",
       "      <td>5876.0</td>\n",
       "    </tr>\n",
       "    <tr>\n",
       "      <th>1</th>\n",
       "      <td>2024</td>\n",
       "      <td>Nissan</td>\n",
       "      <td>Altima</td>\n",
       "      <td>2.5 SV Sedan</td>\n",
       "      <td>20899.0</td>\n",
       "      <td>18858.0</td>\n",
       "    </tr>\n",
       "    <tr>\n",
       "      <th>2</th>\n",
       "      <td>2024</td>\n",
       "      <td>Chevrolet</td>\n",
       "      <td>Malibu</td>\n",
       "      <td>1LT Sedan</td>\n",
       "      <td>19999.0</td>\n",
       "      <td>22544.0</td>\n",
       "    </tr>\n",
       "    <tr>\n",
       "      <th>3</th>\n",
       "      <td>2020</td>\n",
       "      <td>Dodge</td>\n",
       "      <td>Grand Caravan</td>\n",
       "      <td>SXT Passenger Minivan</td>\n",
       "      <td>13999.0</td>\n",
       "      <td>94366.0</td>\n",
       "    </tr>\n",
       "    <tr>\n",
       "      <th>4</th>\n",
       "      <td>2024</td>\n",
       "      <td>Ford</td>\n",
       "      <td>Escape</td>\n",
       "      <td>ST-Line 4dr SUV</td>\n",
       "      <td>22990.0</td>\n",
       "      <td>20417.0</td>\n",
       "    </tr>\n",
       "  </tbody>\n",
       "</table>\n",
       "</div>"
      ],
      "text/plain": [
       "   Year       Make          Model                   Trim    Price  Mileage\n",
       "0  2023        Kia       Sportage             EX 4dr SUV  27590.0   5876.0\n",
       "1  2024     Nissan         Altima           2.5 SV Sedan  20899.0  18858.0\n",
       "2  2024  Chevrolet         Malibu              1LT Sedan  19999.0  22544.0\n",
       "3  2020      Dodge  Grand Caravan  SXT Passenger Minivan  13999.0  94366.0\n",
       "4  2024       Ford         Escape        ST-Line 4dr SUV  22990.0  20417.0"
      ]
     },
     "execution_count": 28,
     "metadata": {},
     "output_type": "execute_result"
    }
   ],
   "source": [
    "cars_df.head()"
   ]
  },
  {
   "cell_type": "code",
   "execution_count": 29,
   "metadata": {},
   "outputs": [],
   "source": [
    "cars_df.to_csv('preprocessed_cars_data.csv', index=False)"
   ]
  },
  {
   "cell_type": "code",
   "execution_count": null,
   "metadata": {},
   "outputs": [],
   "source": []
  }
 ],
 "metadata": {
  "kernelspec": {
   "display_name": "Python 3",
   "language": "python",
   "name": "python3"
  },
  "language_info": {
   "codemirror_mode": {
    "name": "ipython",
    "version": 3
   },
   "file_extension": ".py",
   "mimetype": "text/x-python",
   "name": "python",
   "nbconvert_exporter": "python",
   "pygments_lexer": "ipython3",
   "version": "3.13.1"
  }
 },
 "nbformat": 4,
 "nbformat_minor": 2
}
